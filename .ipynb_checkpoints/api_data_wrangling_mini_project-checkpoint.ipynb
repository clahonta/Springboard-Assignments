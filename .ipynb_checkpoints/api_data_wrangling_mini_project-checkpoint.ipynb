{
 "cells": [
  {
   "cell_type": "markdown",
   "metadata": {},
   "source": [
    "This exercise will require you to pull some data from the Qunadl API. Qaundl is currently the most widely used aggregator of financial market data."
   ]
  },
  {
   "cell_type": "markdown",
   "metadata": {},
   "source": [
    "As a first step, you will need to register a free account on the http://www.quandl.com website."
   ]
  },
  {
   "cell_type": "markdown",
   "metadata": {},
   "source": [
    "After you register, you will be provided with a unique API key, that you should store:"
   ]
  },
  {
   "cell_type": "code",
   "execution_count": 51,
   "metadata": {},
   "outputs": [],
   "source": [
    "# Store the API key as a string - according to PEP8, constants are always named in all upper case\n",
    "API_KEY = 'XXXXXXXXXXXXXXXXXXXX'"
   ]
  },
  {
   "cell_type": "markdown",
   "metadata": {},
   "source": [
    "Qaundl has a large number of data sources, but, unfortunately, most of them require a Premium subscription. Still, there are also a good number of free datasets."
   ]
  },
  {
   "cell_type": "markdown",
   "metadata": {},
   "source": [
    "For this mini project, we will focus on equities data from the Frankfurt Stock Exhange (FSE), which is available for free. We'll try and analyze the stock prices of a company called Carl Zeiss Meditec, which manufactures tools for eye examinations, as well as medical lasers for laser eye surgery: https://www.zeiss.com/meditec/int/home.html. The company is listed under the stock ticker AFX_X."
   ]
  },
  {
   "cell_type": "markdown",
   "metadata": {},
   "source": [
    "You can find the detailed Quandl API instructions here: https://docs.quandl.com/docs/time-series"
   ]
  },
  {
   "cell_type": "markdown",
   "metadata": {},
   "source": [
    "While there is a dedicated Python package for connecting to the Quandl API, we would prefer that you use the *requests* package, which can be easily downloaded using *pip* or *conda*. You can find the documentation for the package here: http://docs.python-requests.org/en/master/ "
   ]
  },
  {
   "cell_type": "markdown",
   "metadata": {},
   "source": [
    "Finally, apart from the *requests* package, you are encouraged to not use any third party Python packages, such as *pandas*, and instead focus on what's available in the Python Standard Library (the *collections* module might come in handy: https://pymotw.com/3/collections/ ).\n",
    "Also, since you won't have access to DataFrames, you are encouraged to us Python's native data structures - preferably dictionaries, though some questions can also be answered using lists.\n",
    "You can read more on these data structures here: https://docs.python.org/3/tutorial/datastructures.html"
   ]
  },
  {
   "cell_type": "markdown",
   "metadata": {},
   "source": [
    "Keep in mind that the JSON responses you will be getting from the API map almost one-to-one to Python's dictionaries. Unfortunately, they can be very nested, so make sure you read up on indexing dictionaries in the documentation provided above."
   ]
  },
  {
   "cell_type": "code",
   "execution_count": 2,
   "metadata": {},
   "outputs": [],
   "source": [
    "# First, import the relevant modules\n",
    "import requests\n",
    "import collections\n"
   ]
  },
  {
   "cell_type": "code",
   "execution_count": 3,
   "metadata": {},
   "outputs": [
    {
     "name": "stdout",
     "output_type": "stream",
     "text": [
      "200\n"
     ]
    }
   ],
   "source": [
    "# Now, call the Quandl API and pull out a small sample of the data (only one day) to get a glimpse\n",
    "# into the JSON structure that will be returned\n",
    "response = requests.get(\"https://www.quandl.com/api/v3/datasets/WIKI/FB.json?column_index=4&start_date=2014-01-01&end_date=2014-12-31&collapse=monthly&transform=rdiff&api_key=XXXXXXXXXXXX\")\n",
    "print(response.status_code)"
   ]
  },
  {
   "cell_type": "code",
   "execution_count": 4,
   "metadata": {},
   "outputs": [
    {
     "name": "stdout",
     "output_type": "stream",
     "text": [
      "{'dataset': {'id': 9775687, 'dataset_code': 'FB', 'database_code': 'WIKI', 'name': 'Facebook Inc. (FB) Prices, Dividends, Splits and Trading Volume', 'description': \"End of day open, high, low, close and volume, dividends and splits, and split/dividend adjusted open, high, low close and volume for Facebook, Inc. (FB). Ex-Dividend is non-zero on ex-dividend dates. Split Ratio is 1 on non-split dates. Adjusted prices are calculated per CRSP (www.crsp.com/products/documentation/crsp-calculations)\\n\\nThis data is in the public domain. You may copy, distribute, disseminate or include the data in other products for commercial and/or noncommercial purposes.\\n\\nThis data is part of Quandl's Wiki initiative to get financial data permanently into the public domain. Quandl relies on users like you to flag errors and provide data where data is wrong or missing. Get involved: connect@quandl.com\\n\", 'refreshed_at': '2018-03-27T21:46:11.036Z', 'newest_available_date': '2018-03-27', 'oldest_available_date': '2012-05-18', 'column_names': ['Date', 'Close'], 'frequency': 'daily', 'type': 'Time Series', 'premium': False, 'limit': None, 'transform': 'rdiff', 'column_index': 4, 'start_date': '2014-01-01', 'end_date': '2014-12-31', 'data': [['2014-12-31', 0.004118404118404], ['2014-11-30', 0.036138151753567], ['2014-10-31', -0.05123987854251], ['2014-09-30', 0.056402031542368], ['2014-08-31', 0.029869236063317], ['2014-07-31', 0.07965522365879], ['2014-06-30', 0.06303317535545], ['2014-05-31', 0.058882569421211], ['2014-04-30', -0.0076361221779549], ['2014-03-31', -0.12007011393514], ['2014-02-28', 0.094134569282404]], 'collapse': 'monthly', 'order': None, 'database_id': 4922}}\n"
     ]
    }
   ],
   "source": [
    "# Inspect the JSON structure of the object you created, and take note of how nested it is,\n",
    "# as well as the overall structure\n",
    "print(response.json())"
   ]
  },
  {
   "cell_type": "markdown",
   "metadata": {},
   "source": [
    "These are your tasks for this mini project:\n",
    "\n",
    "1. Collect data from the Franfurt Stock Exchange, for the ticker AFX_X, for the whole year 2017 (keep in mind that the date format is YYYY-MM-DD).\n",
    "2. Convert the returned JSON object into a Python dictionary.\n",
    "3. Calculate what the highest and lowest opening prices were for the stock in this period.\n",
    "4. What was the largest change in any one day (based on High and Low price)?\n",
    "5. What was the largest change between any two days (based on Closing Price)?\n",
    "6. What was the average daily trading volume during this year?\n",
    "7. (Optional) What was the median trading volume during this year. (Note: you may need to implement your own function for calculating the median.)"
   ]
  },
  {
   "cell_type": "code",
   "execution_count": 5,
   "metadata": {},
   "outputs": [
    {
     "name": "stdout",
     "output_type": "stream",
     "text": [
      "200\n"
     ]
    }
   ],
   "source": [
    "response = requests.get(\"https://www.quandl.com/api/v3/datasets/FSE/AFX_X/data.json?start_date=2017-01-01&end_date=2017-12-31&api_key=CLt45EPKvyL1-HPzKfHL\")\n",
    "print(response.status_code)"
   ]
  },
  {
   "cell_type": "code",
   "execution_count": 6,
   "metadata": {},
   "outputs": [],
   "source": [
    "response = response.json()"
   ]
  },
  {
   "cell_type": "code",
   "execution_count": 7,
   "metadata": {},
   "outputs": [],
   "source": [
    "import json"
   ]
  },
  {
   "cell_type": "code",
   "execution_count": 8,
   "metadata": {},
   "outputs": [
    {
     "data": {
      "text/plain": [
       "dict"
      ]
     },
     "execution_count": 8,
     "metadata": {},
     "output_type": "execute_result"
    }
   ],
   "source": [
    "type(response)"
   ]
  },
  {
   "cell_type": "code",
   "execution_count": 9,
   "metadata": {},
   "outputs": [],
   "source": [
    "json_2017 = response['dataset_data']"
   ]
  },
  {
   "cell_type": "code",
   "execution_count": 10,
   "metadata": {},
   "outputs": [
    {
     "data": {
      "text/plain": [
       "dict_keys(['limit', 'transform', 'column_index', 'column_names', 'start_date', 'end_date', 'frequency', 'data', 'collapse', 'order'])"
      ]
     },
     "execution_count": 10,
     "metadata": {},
     "output_type": "execute_result"
    }
   ],
   "source": [
    "json_2017.keys()"
   ]
  },
  {
   "cell_type": "code",
   "execution_count": 12,
   "metadata": {},
   "outputs": [],
   "source": [
    "json_2017_entries = json_2017['data']"
   ]
  },
  {
   "cell_type": "code",
   "execution_count": 13,
   "metadata": {},
   "outputs": [],
   "source": [
    "afx_opens = [item[1] for item in json_2017_entries]"
   ]
  },
  {
   "cell_type": "code",
   "execution_count": 14,
   "metadata": {},
   "outputs": [],
   "source": [
    "afx_opens_n = [i for i in afx_opens if type(i) == float]"
   ]
  },
  {
   "cell_type": "code",
   "execution_count": 15,
   "metadata": {},
   "outputs": [
    {
     "data": {
      "text/plain": [
       "34.0"
      ]
     },
     "execution_count": 15,
     "metadata": {},
     "output_type": "execute_result"
    }
   ],
   "source": [
    "min(afx_opens_n)"
   ]
  },
  {
   "cell_type": "code",
   "execution_count": 16,
   "metadata": {},
   "outputs": [
    {
     "data": {
      "text/plain": [
       "53.11"
      ]
     },
     "execution_count": 16,
     "metadata": {},
     "output_type": "execute_result"
    }
   ],
   "source": [
    "max(afx_opens_n)"
   ]
  },
  {
   "cell_type": "code",
   "execution_count": 17,
   "metadata": {},
   "outputs": [],
   "source": [
    "afx_dates = [item[0] for item in json_2017_entries]"
   ]
  },
  {
   "cell_type": "code",
   "execution_count": 18,
   "metadata": {},
   "outputs": [],
   "source": [
    "afx_highs = [item[2] for item in json_2017_entries]"
   ]
  },
  {
   "cell_type": "code",
   "execution_count": 19,
   "metadata": {},
   "outputs": [],
   "source": [
    "afx_date_highs = dict(zip(afx_dates, afx_highs))"
   ]
  },
  {
   "cell_type": "code",
   "execution_count": 21,
   "metadata": {},
   "outputs": [],
   "source": [
    "afx_lows = [item[3] for item in json_2017_entries]"
   ]
  },
  {
   "cell_type": "code",
   "execution_count": 22,
   "metadata": {},
   "outputs": [],
   "source": [
    "afx_date_lows = dict(zip(afx_dates, afx_lows))"
   ]
  },
  {
   "cell_type": "code",
   "execution_count": 24,
   "metadata": {},
   "outputs": [],
   "source": [
    "afx_date_change = [abs(item[3] - item[2]) for item in json_2017_entries]"
   ]
  },
  {
   "cell_type": "code",
   "execution_count": 25,
   "metadata": {},
   "outputs": [],
   "source": [
    "afx_date_change_d = dict(zip(afx_dates, afx_date_change))"
   ]
  },
  {
   "cell_type": "code",
   "execution_count": 26,
   "metadata": {},
   "outputs": [
    {
     "name": "stdout",
     "output_type": "stream",
     "text": [
      "2017-05-11\n"
     ]
    }
   ],
   "source": [
    "max_date_change = max(afx_date_change_d, key=afx_date_change_d.get)\n",
    "print(max_date_change)"
   ]
  },
  {
   "cell_type": "code",
   "execution_count": 27,
   "metadata": {},
   "outputs": [
    {
     "name": "stdout",
     "output_type": "stream",
     "text": [
      "2.8100000000000023\n"
     ]
    }
   ],
   "source": [
    "print(max(afx_date_change))"
   ]
  },
  {
   "cell_type": "code",
   "execution_count": 28,
   "metadata": {},
   "outputs": [],
   "source": [
    "afx_traded_volume = [item[6] for item in json_2017_entries]"
   ]
  },
  {
   "cell_type": "code",
   "execution_count": 29,
   "metadata": {},
   "outputs": [
    {
     "name": "stdout",
     "output_type": "stream",
     "text": [
      "89124.33725490196\n",
      "76286.0\n"
     ]
    }
   ],
   "source": [
    "import statistics\n",
    "print(statistics.mean(afx_traded_volume))\n",
    "print(statistics.median(afx_traded_volume))"
   ]
  },
  {
   "cell_type": "code",
   "execution_count": 30,
   "metadata": {},
   "outputs": [],
   "source": [
    "afx_closes = [item[4] for item in json_2017_entries]"
   ]
  },
  {
   "cell_type": "code",
   "execution_count": 32,
   "metadata": {},
   "outputs": [],
   "source": [
    "afx_closes_y = list(afx_closes)"
   ]
  },
  {
   "cell_type": "code",
   "execution_count": 33,
   "metadata": {},
   "outputs": [],
   "source": [
    "afx_closes_y.append(0)"
   ]
  },
  {
   "cell_type": "code",
   "execution_count": 34,
   "metadata": {},
   "outputs": [
    {
     "data": {
      "text/plain": [
       "51.76"
      ]
     },
     "execution_count": 34,
     "metadata": {},
     "output_type": "execute_result"
    }
   ],
   "source": [
    "afx_closes_y.pop(0)"
   ]
  },
  {
   "cell_type": "code",
   "execution_count": 40,
   "metadata": {},
   "outputs": [],
   "source": [
    "afx_closes_diff = [abs(x - y) for x,y in zip(afx_closes, afx_closes_y)]"
   ]
  },
  {
   "cell_type": "code",
   "execution_count": 41,
   "metadata": {},
   "outputs": [],
   "source": [
    "afx_closes_diff_dates = dict(zip(afx_dates, afx_closes_diff))"
   ]
  },
  {
   "cell_type": "code",
   "execution_count": 43,
   "metadata": {},
   "outputs": [],
   "source": [
    "afx_closes_diff_dates['2017-01-02'] = 0"
   ]
  },
  {
   "cell_type": "code",
   "execution_count": 45,
   "metadata": {},
   "outputs": [
    {
     "name": "stdout",
     "output_type": "stream",
     "text": [
      "2017-08-09\n"
     ]
    }
   ],
   "source": [
    "max_date_close_change = max(afx_closes_diff_dates, key=afx_closes_diff_dates.get)\n",
    "print(max_date_close_change)"
   ]
  },
  {
   "cell_type": "code",
   "execution_count": 50,
   "metadata": {},
   "outputs": [
    {
     "data": {
      "text/plain": [
       "[35.8,\n",
       " 2.559999999999995,\n",
       " 2.039999999999999,\n",
       " 1.7199999999999989,\n",
       " 1.5200000000000031,\n",
       " 1.4699999999999989,\n",
       " 1.3799999999999955,\n",
       " 1.3500000000000014,\n",
       " 1.2800000000000011,\n",
       " 1.2100000000000009,\n",
       " 1.1700000000000017,\n",
       " 1.1699999999999946,\n",
       " 1.1599999999999966,\n",
       " 1.1499999999999986,\n",
       " 1.1300000000000026,\n",
       " 1.1300000000000026,\n",
       " 1.1299999999999955,\n",
       " 1.1200000000000045,\n",
       " 1.0599999999999952,\n",
       " 1.0,\n",
       " 0.990000000000002,\n",
       " 0.9600000000000009,\n",
       " 0.9600000000000009,\n",
       " 0.9500000000000028,\n",
       " 0.9500000000000028,\n",
       " 0.9500000000000028,\n",
       " 0.8299999999999983,\n",
       " 0.8100000000000023,\n",
       " 0.8099999999999952,\n",
       " 0.7899999999999991,\n",
       " 0.7700000000000031,\n",
       " 0.769999999999996,\n",
       " 0.75,\n",
       " 0.7299999999999969,\n",
       " 0.7000000000000028,\n",
       " 0.6999999999999957,\n",
       " 0.6799999999999997,\n",
       " 0.6600000000000037,\n",
       " 0.6600000000000037,\n",
       " 0.6600000000000037,\n",
       " 0.6599999999999966,\n",
       " 0.6599999999999966,\n",
       " 0.6499999999999986,\n",
       " 0.6499999999999986,\n",
       " 0.6499999999999986,\n",
       " 0.6300000000000026,\n",
       " 0.6299999999999955,\n",
       " 0.6099999999999994,\n",
       " 0.6099999999999994,\n",
       " 0.6099999999999994,\n",
       " 0.6099999999999994,\n",
       " 0.6099999999999994,\n",
       " 0.6000000000000014,\n",
       " 0.6000000000000014,\n",
       " 0.6000000000000014,\n",
       " 0.5900000000000034,\n",
       " 0.5900000000000034,\n",
       " 0.5899999999999963,\n",
       " 0.5799999999999983,\n",
       " 0.5799999999999983,\n",
       " 0.5700000000000003,\n",
       " 0.5700000000000003,\n",
       " 0.5500000000000043,\n",
       " 0.5499999999999972,\n",
       " 0.5300000000000011,\n",
       " 0.5200000000000031,\n",
       " 0.519999999999996,\n",
       " 0.5100000000000051,\n",
       " 0.509999999999998,\n",
       " 0.509999999999998,\n",
       " 0.5,\n",
       " 0.5,\n",
       " 0.5,\n",
       " 0.490000000000002,\n",
       " 0.4799999999999969,\n",
       " 0.47000000000000597,\n",
       " 0.46999999999999886,\n",
       " 0.46000000000000085,\n",
       " 0.45000000000000284,\n",
       " 0.45000000000000284,\n",
       " 0.45000000000000284,\n",
       " 0.45000000000000284,\n",
       " 0.44999999999999574,\n",
       " 0.4399999999999977,\n",
       " 0.4399999999999977,\n",
       " 0.4299999999999997,\n",
       " 0.4200000000000017,\n",
       " 0.4100000000000037,\n",
       " 0.4099999999999966,\n",
       " 0.4099999999999966,\n",
       " 0.4099999999999966,\n",
       " 0.4000000000000057,\n",
       " 0.3999999999999986,\n",
       " 0.39000000000000057,\n",
       " 0.39000000000000057,\n",
       " 0.38999999999999346,\n",
       " 0.38000000000000256,\n",
       " 0.37999999999999545,\n",
       " 0.37000000000000455,\n",
       " 0.36999999999999744,\n",
       " 0.36999999999999744,\n",
       " 0.35999999999999943,\n",
       " 0.35999999999999943,\n",
       " 0.35999999999999943,\n",
       " 0.3500000000000014,\n",
       " 0.3400000000000034,\n",
       " 0.3399999999999963,\n",
       " 0.3399999999999963,\n",
       " 0.3299999999999983,\n",
       " 0.3299999999999983,\n",
       " 0.3299999999999983,\n",
       " 0.3200000000000003,\n",
       " 0.3100000000000023,\n",
       " 0.3100000000000023,\n",
       " 0.29999999999999716,\n",
       " 0.29999999999999716,\n",
       " 0.29999999999999716,\n",
       " 0.28999999999999915,\n",
       " 0.28999999999999915,\n",
       " 0.28999999999999915,\n",
       " 0.28000000000000114,\n",
       " 0.28000000000000114,\n",
       " 0.28000000000000114,\n",
       " 0.27999999999999403,\n",
       " 0.27999999999999403,\n",
       " 0.269999999999996,\n",
       " 0.259999999999998,\n",
       " 0.259999999999998,\n",
       " 0.259999999999998,\n",
       " 0.259999999999998,\n",
       " 0.259999999999998,\n",
       " 0.259999999999998,\n",
       " 0.25,\n",
       " 0.25,\n",
       " 0.25,\n",
       " 0.25,\n",
       " 0.25,\n",
       " 0.23999999999999488,\n",
       " 0.23999999999999488,\n",
       " 0.23000000000000398,\n",
       " 0.23000000000000398,\n",
       " 0.22999999999999687,\n",
       " 0.22000000000000597,\n",
       " 0.21999999999999886,\n",
       " 0.21999999999999886,\n",
       " 0.21999999999999886,\n",
       " 0.21999999999999886,\n",
       " 0.21999999999999886,\n",
       " 0.21000000000000085,\n",
       " 0.21000000000000085,\n",
       " 0.21000000000000085,\n",
       " 0.20000000000000284,\n",
       " 0.20000000000000284,\n",
       " 0.19999999999999574,\n",
       " 0.19000000000000483,\n",
       " 0.18999999999999773,\n",
       " 0.18999999999999773,\n",
       " 0.17999999999999972,\n",
       " 0.1700000000000017,\n",
       " 0.1700000000000017,\n",
       " 0.1699999999999946,\n",
       " 0.1600000000000037,\n",
       " 0.1600000000000037,\n",
       " 0.1599999999999966,\n",
       " 0.1599999999999966,\n",
       " 0.1599999999999966,\n",
       " 0.1599999999999966,\n",
       " 0.15000000000000568,\n",
       " 0.14999999999999858,\n",
       " 0.14999999999999858,\n",
       " 0.14999999999999858,\n",
       " 0.14999999999999858,\n",
       " 0.14999999999999858,\n",
       " 0.14999999999999858,\n",
       " 0.14999999999999858,\n",
       " 0.14000000000000057,\n",
       " 0.14000000000000057,\n",
       " 0.13000000000000256,\n",
       " 0.13000000000000256,\n",
       " 0.13000000000000256,\n",
       " 0.13000000000000256,\n",
       " 0.12999999999999545,\n",
       " 0.12999999999999545,\n",
       " 0.12000000000000455,\n",
       " 0.11999999999999744,\n",
       " 0.10999999999999943,\n",
       " 0.10999999999999943,\n",
       " 0.10999999999999943,\n",
       " 0.10999999999999943,\n",
       " 0.10000000000000142,\n",
       " 0.10000000000000142,\n",
       " 0.10000000000000142,\n",
       " 0.10000000000000142,\n",
       " 0.10000000000000142,\n",
       " 0.09000000000000341,\n",
       " 0.09000000000000341,\n",
       " 0.09000000000000341,\n",
       " 0.09000000000000341,\n",
       " 0.09000000000000341,\n",
       " 0.0899999999999963,\n",
       " 0.0899999999999963,\n",
       " 0.0899999999999963,\n",
       " 0.0899999999999963,\n",
       " 0.0899999999999963,\n",
       " 0.0799999999999983,\n",
       " 0.0799999999999983,\n",
       " 0.0799999999999983,\n",
       " 0.07000000000000028,\n",
       " 0.07000000000000028,\n",
       " 0.07000000000000028,\n",
       " 0.07000000000000028,\n",
       " 0.060000000000002274,\n",
       " 0.060000000000002274,\n",
       " 0.05999999999999517,\n",
       " 0.05999999999999517,\n",
       " 0.05000000000000426,\n",
       " 0.04999999999999716,\n",
       " 0.04999999999999716,\n",
       " 0.04999999999999716,\n",
       " 0.04999999999999716,\n",
       " 0.04999999999999716,\n",
       " 0.04000000000000625,\n",
       " 0.03999999999999915,\n",
       " 0.030000000000001137,\n",
       " 0.030000000000001137,\n",
       " 0.030000000000001137,\n",
       " 0.020000000000003126,\n",
       " 0.020000000000003126,\n",
       " 0.020000000000003126,\n",
       " 0.020000000000003126,\n",
       " 0.020000000000003126,\n",
       " 0.020000000000003126,\n",
       " 0.020000000000003126,\n",
       " 0.020000000000003126,\n",
       " 0.01999999999999602,\n",
       " 0.01999999999999602,\n",
       " 0.01999999999999602,\n",
       " 0.01999999999999602,\n",
       " 0.00999999999999801,\n",
       " 0.00999999999999801,\n",
       " 0.00999999999999801,\n",
       " 0.00999999999999801,\n",
       " 0.00999999999999801,\n",
       " 0.00999999999999801,\n",
       " 0.00999999999999801,\n",
       " 0.0,\n",
       " 0.0,\n",
       " 0.0,\n",
       " 0.0,\n",
       " 0.0,\n",
       " 0.0,\n",
       " 0.0,\n",
       " 0.0,\n",
       " 0.0,\n",
       " 0.0]"
      ]
     },
     "execution_count": 50,
     "metadata": {},
     "output_type": "execute_result"
    }
   ],
   "source": [
    "sorted(afx_closes_diff, reverse=True)"
   ]
  },
  {
   "cell_type": "code",
   "execution_count": 36,
   "metadata": {},
   "outputs": [],
   "source": [
    "# Answers to the above questions:\n",
    "\n",
    "# 1. Done\n",
    "# 2. Done\n",
    "# 3. Highest = $53.11\n",
    "#    Lowest = $34.00\n",
    "# 4. Largest Daily Change (May 11): $2.81\n",
    "# 5. Largest DoD Change (August 8-9): $2.55\n",
    "# 6. Avg Daily Traded Vol = 89,124\n",
    "# 7. Median Daily Traded Vol = 76,286"
   ]
  }
 ],
 "metadata": {
  "kernelspec": {
   "display_name": "Python 3",
   "language": "python",
   "name": "python3"
  },
  "language_info": {
   "codemirror_mode": {
    "name": "ipython",
    "version": 3
   },
   "file_extension": ".py",
   "mimetype": "text/x-python",
   "name": "python",
   "nbconvert_exporter": "python",
   "pygments_lexer": "ipython3",
   "version": "3.8.3"
  }
 },
 "nbformat": 4,
 "nbformat_minor": 2
}
